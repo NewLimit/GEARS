{
 "cells": [
  {
   "cell_type": "code",
   "execution_count": 1,
   "id": "d55fc455",
   "metadata": {},
   "outputs": [
    {
     "name": "stderr",
     "output_type": "stream",
     "text": [
      "/home/greg/anaconda3/envs/gears/lib/python3.10/site-packages/tqdm/auto.py:22: TqdmWarning: IProgress not found. Please update jupyter and ipywidgets. See https://ipywidgets.readthedocs.io/en/stable/user_install.html\n",
      "  from .autonotebook import tqdm as notebook_tqdm\n"
     ]
    }
   ],
   "source": [
    "import sys\n",
    "sys.path.append('../')\n",
    "\n",
    "from gears import PertData, GEARS"
   ]
  },
  {
   "cell_type": "markdown",
   "id": "07afd133",
   "metadata": {},
   "source": [
    "Load data. We use norman as an example."
   ]
  },
  {
   "cell_type": "code",
   "execution_count": 2,
   "id": "7db9f8fe",
   "metadata": {},
   "outputs": [
    {
     "name": "stderr",
     "output_type": "stream",
     "text": [
      "Found local copy...\n",
      "No gene path provided, using all genes\n",
      "Found local copy...\n",
      "These perturbations are not in the GO graph and is thus not able to make prediction for...\n",
      "['RHOXF2BB+ctrl' 'LYL1+IER5L' 'ctrl+IER5L' 'KIAA1804+ctrl' 'IER5L+ctrl'\n",
      " 'RHOXF2BB+ZBTB25' 'RHOXF2BB+SET']\n",
      "Local copy of pyg dataset is detected. Loading...\n",
      "Done!\n",
      "Local copy of split is detected. Loading...\n",
      "Simulation split test composition:\n",
      "combo_seen0:9\n",
      "combo_seen1:43\n",
      "combo_seen2:19\n",
      "unseen_single:36\n",
      "Done!\n",
      "Creating dataloaders....\n",
      "Done!\n"
     ]
    }
   ],
   "source": [
    "pert_data = PertData('./data')\n",
    "pert_data.load(data_name = 'norman')\n",
    "pert_data.prepare_split(split = 'simulation', seed = 1)\n",
    "pert_data.get_dataloader(batch_size = 32, test_batch_size = 128)"
   ]
  },
  {
   "cell_type": "markdown",
   "id": "8f46c92c",
   "metadata": {},
   "source": [
    "Create a model object; if you use [wandb](https://wandb.ai), you can easily track model training and evaluation by setting `weight_bias_track` to true, and specify the `proj_name` and `exp_name` that you like."
   ]
  },
  {
   "cell_type": "code",
   "execution_count": 3,
   "id": "26863cef",
   "metadata": {},
   "outputs": [
    {
     "data": {
      "text/plain": [
       "<gears.pertdata.PertData at 0x7f8f1ef74b50>"
      ]
     },
     "execution_count": 3,
     "metadata": {},
     "output_type": "execute_result"
    }
   ],
   "source": [
    "pert_data"
   ]
  },
  {
   "cell_type": "code",
   "execution_count": 4,
   "id": "2b08fc42",
   "metadata": {},
   "outputs": [],
   "source": [
    "gears_model = GEARS(pert_data, device = 'cuda:0', \n",
    "                        weight_bias_track = False, \n",
    "                        proj_name = 'pertnet', \n",
    "                        exp_name = 'pertnet',)\n",
    "gears_model.model_initialize(hidden_size = 64, go_path=\"./data/norman/go.csv\")"
   ]
  },
  {
   "cell_type": "markdown",
   "id": "44643932",
   "metadata": {},
   "source": [
    "You can find available tunable parameters in model_initialize via"
   ]
  },
  {
   "cell_type": "code",
   "execution_count": 5,
   "id": "9bf0f8db",
   "metadata": {},
   "outputs": [
    {
     "data": {
      "text/plain": [
       "{'hidden_size': 'hidden dimension, default 64',\n",
       " 'num_go_gnn_layers': 'number of GNN layers for GO graph, default 1',\n",
       " 'num_gene_gnn_layers': 'number of GNN layers for co-expression gene graph, default 1',\n",
       " 'decoder_hidden_size': 'hidden dimension for gene-specific decoder, default 16',\n",
       " 'num_similar_genes_go_graph': 'number of maximum similar K genes in the GO graph, default 20',\n",
       " 'num_similar_genes_co_express_graph': 'number of maximum similar K genes in the co expression graph, default 20',\n",
       " 'coexpress_threshold': 'pearson correlation threshold when constructing coexpression graph, default 0.4',\n",
       " 'uncertainty': 'whether or not to turn on uncertainty mode, default False',\n",
       " 'uncertainty_reg': 'regularization term to balance uncertainty loss and prediction loss, default 1',\n",
       " 'direction_lambda': 'regularization term to balance direction loss and prediction loss, default 1'}"
      ]
     },
     "execution_count": 5,
     "metadata": {},
     "output_type": "execute_result"
    }
   ],
   "source": [
    "gears_model.tunable_parameters()"
   ]
  },
  {
   "cell_type": "markdown",
   "id": "eb3bbcf8",
   "metadata": {},
   "source": [
    "Train your model:\n",
    "\n",
    "Note: For the sake of demo, we set epoch size to 1. To get full model, set `epochs = 20`."
   ]
  },
  {
   "cell_type": "code",
   "execution_count": 6,
   "id": "a2853581",
   "metadata": {
    "scrolled": true
   },
   "outputs": [
    {
     "name": "stderr",
     "output_type": "stream",
     "text": [
      "Start Training...\n",
      "Epoch 1 Step 1 Train Loss: 1.5037\n",
      "Epoch 1 Step 51 Train Loss: 0.8678\n",
      "Epoch 1 Step 101 Train Loss: 0.6175\n",
      "Epoch 1 Step 151 Train Loss: 0.5405\n",
      "Epoch 1 Step 201 Train Loss: 0.5443\n",
      "Epoch 1 Step 251 Train Loss: 0.4987\n",
      "Epoch 1 Step 301 Train Loss: 0.5114\n",
      "Epoch 1 Step 351 Train Loss: 0.7144\n",
      "Epoch 1 Step 401 Train Loss: 0.6537\n",
      "Epoch 1 Step 451 Train Loss: 0.4845\n",
      "Epoch 1 Step 501 Train Loss: 0.4590\n",
      "Epoch 1 Step 551 Train Loss: 0.6324\n",
      "Epoch 1 Step 601 Train Loss: 0.4472\n",
      "Epoch 1 Step 651 Train Loss: 0.4866\n",
      "Epoch 1 Step 701 Train Loss: 0.5326\n"
     ]
    },
    {
     "ename": "KeyboardInterrupt",
     "evalue": "",
     "output_type": "error",
     "traceback": [
      "\u001b[0;31m---------------------------------------------------------------------------\u001b[0m",
      "\u001b[0;31mKeyboardInterrupt\u001b[0m                         Traceback (most recent call last)",
      "\u001b[1;32m/mnt/c/Users/gregj/Projects/GEARS/demo/model_tutorial.ipynb Cell 10\u001b[0m in \u001b[0;36m<cell line: 1>\u001b[0;34m()\u001b[0m\n\u001b[0;32m----> <a href='vscode-notebook-cell://wsl%2Bubuntu-20.04/mnt/c/Users/gregj/Projects/GEARS/demo/model_tutorial.ipynb#X11sdnNjb2RlLXJlbW90ZQ%3D%3D?line=0'>1</a>\u001b[0m gears_model\u001b[39m.\u001b[39;49mtrain(epochs \u001b[39m=\u001b[39;49m \u001b[39m20\u001b[39;49m, lr \u001b[39m=\u001b[39;49m \u001b[39m2e-4\u001b[39;49m)\n",
      "File \u001b[0;32m/mnt/c/Users/gregj/Projects/GEARS/gears/gears.py:423\u001b[0m, in \u001b[0;36mGEARS.train\u001b[0;34m(self, epochs, lr, weight_decay)\u001b[0m\n\u001b[1;32m    421\u001b[0m \u001b[39mif\u001b[39;00m \u001b[39mself\u001b[39m\u001b[39m.\u001b[39mconfig[\u001b[39m\"\u001b[39m\u001b[39muncertainty\u001b[39m\u001b[39m\"\u001b[39m]:\n\u001b[1;32m    422\u001b[0m     pred, logvar \u001b[39m=\u001b[39m \u001b[39mself\u001b[39m\u001b[39m.\u001b[39mmodel(batch)\n\u001b[0;32m--> 423\u001b[0m     loss \u001b[39m=\u001b[39m uncertainty_loss_fct(\n\u001b[1;32m    424\u001b[0m         pred,\n\u001b[1;32m    425\u001b[0m         logvar,\n\u001b[1;32m    426\u001b[0m         y,\n\u001b[1;32m    427\u001b[0m         batch\u001b[39m.\u001b[39;49mpert,\n\u001b[1;32m    428\u001b[0m         reg\u001b[39m=\u001b[39;49m\u001b[39mself\u001b[39;49m\u001b[39m.\u001b[39;49mconfig[\u001b[39m\"\u001b[39;49m\u001b[39muncertainty_reg\u001b[39;49m\u001b[39m\"\u001b[39;49m],\n\u001b[1;32m    429\u001b[0m         ctrl\u001b[39m=\u001b[39;49m\u001b[39mself\u001b[39;49m\u001b[39m.\u001b[39;49mctrl_expression,\n\u001b[1;32m    430\u001b[0m         dict_filter\u001b[39m=\u001b[39;49m\u001b[39mself\u001b[39;49m\u001b[39m.\u001b[39;49mdict_filter,\n\u001b[1;32m    431\u001b[0m         direction_lambda\u001b[39m=\u001b[39;49m\u001b[39mself\u001b[39;49m\u001b[39m.\u001b[39;49mconfig[\u001b[39m\"\u001b[39;49m\u001b[39mdirection_lambda\u001b[39;49m\u001b[39m\"\u001b[39;49m],\n\u001b[1;32m    432\u001b[0m     )\n\u001b[1;32m    433\u001b[0m \u001b[39melse\u001b[39;00m:\n\u001b[1;32m    434\u001b[0m     pred \u001b[39m=\u001b[39m \u001b[39mself\u001b[39m\u001b[39m.\u001b[39mmodel(batch)\n",
      "File \u001b[0;32m/mnt/c/Users/gregj/Projects/GEARS/gears/utils.py:350\u001b[0m, in \u001b[0;36muncertainty_loss_fct\u001b[0;34m(pred, logvar, y, perts, reg, ctrl, direction_lambda, dict_filter)\u001b[0m\n\u001b[1;32m    344\u001b[0m \u001b[39m# direction loss\u001b[39;00m\n\u001b[1;32m    345\u001b[0m \u001b[39mif\u001b[39;00m p \u001b[39m!=\u001b[39m \u001b[39m\"\u001b[39m\u001b[39mctrl\u001b[39m\u001b[39m\"\u001b[39m:\n\u001b[1;32m    346\u001b[0m     losses \u001b[39m+\u001b[39m\u001b[39m=\u001b[39m (\n\u001b[1;32m    347\u001b[0m         torch\u001b[39m.\u001b[39msum(\n\u001b[1;32m    348\u001b[0m             direction_lambda\n\u001b[1;32m    349\u001b[0m             \u001b[39m*\u001b[39m (\n\u001b[0;32m--> 350\u001b[0m                 torch\u001b[39m.\u001b[39;49msign(y_p \u001b[39m-\u001b[39;49m ctrl[retain_idx])\n\u001b[1;32m    351\u001b[0m                 \u001b[39m-\u001b[39m torch\u001b[39m.\u001b[39msign(pred_p \u001b[39m-\u001b[39m ctrl[retain_idx])\n\u001b[1;32m    352\u001b[0m             )\n\u001b[1;32m    353\u001b[0m             \u001b[39m*\u001b[39m\u001b[39m*\u001b[39m \u001b[39m2\u001b[39m\n\u001b[1;32m    354\u001b[0m         )\n\u001b[1;32m    355\u001b[0m         \u001b[39m/\u001b[39m pred_p\u001b[39m.\u001b[39mshape[\u001b[39m0\u001b[39m]\n\u001b[1;32m    356\u001b[0m         \u001b[39m/\u001b[39m pred_p\u001b[39m.\u001b[39mshape[\u001b[39m1\u001b[39m]\n\u001b[1;32m    357\u001b[0m     )\n\u001b[1;32m    358\u001b[0m \u001b[39melse\u001b[39;00m:\n\u001b[1;32m    359\u001b[0m     losses \u001b[39m+\u001b[39m\u001b[39m=\u001b[39m (\n\u001b[1;32m    360\u001b[0m         torch\u001b[39m.\u001b[39msum(\n\u001b[1;32m    361\u001b[0m             direction_lambda\n\u001b[0;32m   (...)\u001b[0m\n\u001b[1;32m    365\u001b[0m         \u001b[39m/\u001b[39m pred_p\u001b[39m.\u001b[39mshape[\u001b[39m1\u001b[39m]\n\u001b[1;32m    366\u001b[0m     )\n",
      "\u001b[0;31mKeyboardInterrupt\u001b[0m: "
     ]
    }
   ],
   "source": [
    "gears_model.train(epochs = 20, lr = 1E-3)"
   ]
  },
  {
   "cell_type": "markdown",
   "id": "e8363789",
   "metadata": {},
   "source": [
    "Save and load pretrained models:"
   ]
  },
  {
   "cell_type": "code",
   "execution_count": 6,
   "id": "eaf8aa00",
   "metadata": {},
   "outputs": [],
   "source": [
    "gears_model.save_model('test_model')\n",
    "gears_model.load_pretrained('test_model')"
   ]
  },
  {
   "cell_type": "markdown",
   "id": "5120bbcd",
   "metadata": {},
   "source": [
    "Make prediction for new perturbation:"
   ]
  },
  {
   "cell_type": "code",
   "execution_count": 7,
   "id": "ed439395",
   "metadata": {},
   "outputs": [
    {
     "data": {
      "text/plain": [
       "{'FEV': array([1.0191492e-03, 3.7346520e-02, 9.2324615e-02, ..., 3.4014411e+00,\n",
       "        1.1585764e-02, 6.3127303e-04], dtype=float32),\n",
       " 'FEV_SAMD11': array([1.9250450e-03, 6.5041207e-02, 1.6452499e-01, ..., 3.1653712e+00,\n",
       "        2.0137992e-02, 1.4946696e-03], dtype=float32)}"
      ]
     },
     "execution_count": 7,
     "metadata": {},
     "output_type": "execute_result"
    }
   ],
   "source": [
    "gears_model.predict([['FEV'], ['FEV', 'SAMD11']])"
   ]
  },
  {
   "cell_type": "markdown",
   "id": "0893c425",
   "metadata": {},
   "source": [
    "Gene list can be found here:"
   ]
  },
  {
   "cell_type": "code",
   "execution_count": 8,
   "id": "60736793",
   "metadata": {},
   "outputs": [
    {
     "data": {
      "text/plain": [
       "['RP11-34P13.8', 'RP11-54O7.3', 'SAMD11', 'PERM1', 'HES4']"
      ]
     },
     "execution_count": 8,
     "metadata": {},
     "output_type": "execute_result"
    }
   ],
   "source": [
    "gears_model.gene_list[:5]"
   ]
  },
  {
   "cell_type": "code",
   "execution_count": null,
   "id": "acc37ac8",
   "metadata": {},
   "outputs": [],
   "source": []
  }
 ],
 "metadata": {
  "kernelspec": {
   "display_name": "Python 3.10.4 ('gears')",
   "language": "python",
   "name": "python3"
  },
  "language_info": {
   "codemirror_mode": {
    "name": "ipython",
    "version": 3
   },
   "file_extension": ".py",
   "mimetype": "text/x-python",
   "name": "python",
   "nbconvert_exporter": "python",
   "pygments_lexer": "ipython3",
   "version": "3.10.4"
  },
  "vscode": {
   "interpreter": {
    "hash": "4e6a4488ad57bc86a4ae12e0f62cb8cef787972c410679d631fb7c9f6e9926db"
   }
  }
 },
 "nbformat": 4,
 "nbformat_minor": 5
}
